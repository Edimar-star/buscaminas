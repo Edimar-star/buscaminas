{
 "cells": [
  {
   "cell_type": "markdown",
   "metadata": {},
   "source": [
    "# Dependencies"
   ]
  },
  {
   "cell_type": "code",
   "execution_count": 941,
   "metadata": {},
   "outputs": [],
   "source": [
    "#%pip install pyautogui opencv-python easyocr"
   ]
  },
  {
   "cell_type": "code",
   "execution_count": 942,
   "metadata": {},
   "outputs": [],
   "source": [
    "#%pip install torch==2.3.1 torchaudio==2.3.1 torchvision==0.18.1"
   ]
  },
  {
   "cell_type": "markdown",
   "metadata": {},
   "source": [
    "# Libraries"
   ]
  },
  {
   "cell_type": "code",
   "execution_count": 944,
   "metadata": {},
   "outputs": [],
   "source": [
    "import os\n",
    "import cv2\n",
    "import easyocr\n",
    "import logging\n",
    "import pyautogui\n",
    "import numpy as np\n",
    "from collections import deque\n",
    "import matplotlib.pyplot as plt"
   ]
  },
  {
   "cell_type": "code",
   "execution_count": 945,
   "metadata": {},
   "outputs": [],
   "source": [
    "def take_screenshot():\n",
    "    screenshot = pyautogui.screenshot()\n",
    "    screenshot = np.array(screenshot)\n",
    "    return cv2.cvtColor(screenshot, cv2.COLOR_RGB2BGR)\n",
    "\n",
    "def get_colors():\n",
    "    return np.array([\n",
    "        [81, 215, 170],  # Green light\n",
    "        [73, 209, 162],  # Green\n",
    "        [159, 194, 229], # Nude light\n",
    "        [153, 184, 215], # Nude\n",
    "        [58, 175, 135]   # line\n",
    "    ], dtype=np.uint8)\n",
    "\n",
    "def create_mask_colors(screenshot, colors):\n",
    "    return [cv2.inRange(screenshot, color, color) for color in colors]\n",
    "\n",
    "def get_table_contours(masks):\n",
    "    combined_mask = np.bitwise_or.reduce(masks)\n",
    "    contours, _ = cv2.findContours(combined_mask, cv2.RETR_EXTERNAL, cv2.CHAIN_APPROX_SIMPLE)\n",
    "    return contours\n",
    "\n",
    "def get_table_dimensions(contours):\n",
    "    largest_contour = max(contours, key=cv2.contourArea)\n",
    "    x, y, w, h = cv2.boundingRect(largest_contour)\n",
    "    return x, y, w, h"
   ]
  },
  {
   "cell_type": "code",
   "execution_count": 946,
   "metadata": {},
   "outputs": [],
   "source": [
    "screenshot = take_screenshot()\n",
    "colors = get_colors()\n",
    "masks = create_mask_colors(screenshot, colors)\n",
    "\n",
    "table_contours = get_table_contours(masks)\n",
    "table_dims = get_table_dimensions(table_contours)\n",
    "\n",
    "square_dims = {\n",
    "    (450, 360): 45, # Easy\n",
    "    (540, 420): 30, # Medium\n",
    "    (600, 500): 25, # Hard\n",
    "}\n",
    "\n",
    "square_size = square_dims[(table_dims[2], table_dims[3])]"
   ]
  },
  {
   "cell_type": "code",
   "execution_count": 947,
   "metadata": {},
   "outputs": [],
   "source": [
    "logging.getLogger().setLevel(logging.ERROR)\n",
    "reader = easyocr.Reader(['en'])"
   ]
  },
  {
   "cell_type": "code",
   "execution_count": 948,
   "metadata": {},
   "outputs": [],
   "source": [
    "def get_square(screenshot, table_dims, i, j, square_size):\n",
    "    dx, dy = j * square_size, i * square_size\n",
    "    x, y, w, h = (\n",
    "        table_dims[0] + dx, \n",
    "        table_dims[1] + dy, \n",
    "        square_size, \n",
    "        square_size\n",
    "    )\n",
    "    return screenshot[y:y+h, x:x+w]\n",
    "\n",
    "def scale_image(square, width, inter=cv2.INTER_AREA):\n",
    "    original_height, original_width = square.shape[:2]\n",
    "    if original_width == width:\n",
    "        return square\n",
    "    \n",
    "    ratio = width / float(original_width)\n",
    "    height = int(original_height * ratio)\n",
    "    \n",
    "    return cv2.resize(square, (width, height), interpolation=inter)\n",
    "\n",
    "def str_to_number(str_value):\n",
    "    try:\n",
    "        return int(str_value)\n",
    "    except ValueError:\n",
    "        return None\n",
    "\n",
    "def get_number(square):\n",
    "    results = reader.readtext(square)\n",
    "    if not results:\n",
    "        return None\n",
    "\n",
    "    sorted_results = sorted(results, key=lambda x: x[2], reverse=True)\n",
    "    return int(sorted_results[0][1])\n",
    "    \n",
    "def get_cell_value(square, colors):\n",
    "    for index, color in enumerate(colors):\n",
    "        mask = cv2.inRange(square, color, color)\n",
    "        color_percentage = (np.sum(mask) / (mask.size * 255)) * 100\n",
    "        \n",
    "        if color_percentage > 90:\n",
    "            return 0 if index < 2 else -1\n",
    "    \n",
    "    return get_number(square)"
   ]
  },
  {
   "cell_type": "code",
   "execution_count": 949,
   "metadata": {},
   "outputs": [
    {
     "name": "stdout",
     "output_type": "stream",
     "text": [
      "Fila 1 de 20 leida\n",
      "Fila 2 de 20 leida\n",
      "Fila 3 de 20 leida\n",
      "Fila 4 de 20 leida\n",
      "Fila 5 de 20 leida\n",
      "Fila 6 de 20 leida\n",
      "Fila 7 de 20 leida\n",
      "Fila 8 de 20 leida\n",
      "Fila 9 de 20 leida\n",
      "Fila 10 de 20 leida\n",
      "Fila 11 de 20 leida\n",
      "Fila 12 de 20 leida\n",
      "Fila 13 de 20 leida\n",
      "Fila 14 de 20 leida\n",
      "Fila 15 de 20 leida\n",
      "Fila 16 de 20 leida\n",
      "Fila 17 de 20 leida\n",
      "Fila 18 de 20 leida\n",
      "Fila 19 de 20 leida\n",
      "Fila 20 de 20 leida\n"
     ]
    }
   ],
   "source": [
    "_, _, width, height = table_dims\n",
    "table = np.zeros((height // square_size, width // square_size))\n",
    "\n",
    "for i in range(len(table)):\n",
    "    for j in range(len(table[i])):\n",
    "        square = get_square(screenshot, table_dims, i, j, square_size)\n",
    "        resized_square = scale_image(square, 5 * square_size)\n",
    "        table[i, j] = get_cell_value(resized_square, colors[:4])\n",
    "    print(f\"Fila {i + 1} de {len(table)} leida\")"
   ]
  },
  {
   "cell_type": "code",
   "execution_count": 950,
   "metadata": {},
   "outputs": [],
   "source": [
    "def show_table(table):\n",
    "    str_value = \"\"\n",
    "    for row in table:\n",
    "        for col in row:\n",
    "            value = f\" {float(col):.2f}\"\n",
    "            str_value += value + \"\"\n",
    "        str_value += \"\\n\"\n",
    "\n",
    "    print(str_value)"
   ]
  },
  {
   "cell_type": "code",
   "execution_count": 951,
   "metadata": {},
   "outputs": [
    {
     "name": "stdout",
     "output_type": "stream",
     "text": [
      " 0.00 0.00 0.00 0.00 0.00 0.00 0.00 0.00 0.00 0.00 0.00 0.00 0.00 0.00 0.00 0.00 0.00 0.00 0.00 0.00 0.00 0.00 0.00 0.00\n",
      " 0.00 0.00 0.00 0.00 0.00 0.00 0.00 0.00 0.00 0.00 0.00 0.00 0.00 0.00 0.00 0.00 0.00 0.00 0.00 0.00 0.00 0.00 0.00 0.00\n",
      " 0.00 0.00 0.00 0.00 0.00 0.00 0.00 0.00 0.00 0.00 0.00 0.00 0.00 0.00 0.00 0.00 0.00 0.00 0.00 0.00 0.00 0.00 0.00 0.00\n",
      " 0.00 0.00 0.00 0.00 0.00 0.00 0.00 0.00 0.00 0.00 0.00 0.00 0.00 0.00 0.00 0.00 0.00 0.00 0.00 0.00 0.00 0.00 0.00 0.00\n",
      " 0.00 0.00 0.00 0.00 0.00 0.00 0.00 0.00 0.00 0.00 0.00 0.00 0.00 0.00 0.00 0.00 0.00 0.00 0.00 0.00 0.00 0.00 0.00 0.00\n",
      " 0.00 0.00 0.00 0.00 0.00 0.00 0.00 0.00 0.00 0.00 0.00 2.00 1.00 2.00 2.00 0.00 0.00 0.00 0.00 0.00 0.00 0.00 0.00 0.00\n",
      " 0.00 0.00 0.00 0.00 0.00 0.00 0.00 0.00 0.00 4.00 2.00 1.00 -1.00 -1.00 1.00 0.00 0.00 0.00 0.00 0.00 0.00 0.00 0.00 0.00\n",
      " 0.00 0.00 0.00 0.00 0.00 0.00 0.00 0.00 0.00 1.00 -1.00 -1.00 -1.00 1.00 2.00 0.00 0.00 0.00 0.00 0.00 0.00 0.00 0.00 0.00\n",
      " 0.00 0.00 0.00 0.00 0.00 0.00 0.00 0.00 0.00 2.00 1.00 -1.00 -1.00 2.00 0.00 0.00 0.00 0.00 0.00 0.00 0.00 0.00 0.00 0.00\n",
      " 0.00 0.00 0.00 0.00 0.00 0.00 0.00 0.00 0.00 0.00 2.00 -1.00 -1.00 3.00 0.00 0.00 0.00 0.00 0.00 0.00 0.00 0.00 0.00 0.00\n",
      " 0.00 0.00 0.00 0.00 0.00 0.00 0.00 0.00 0.00 0.00 2.00 -1.00 -1.00 2.00 0.00 0.00 0.00 0.00 0.00 0.00 0.00 0.00 0.00 0.00\n",
      " 0.00 0.00 0.00 0.00 0.00 0.00 0.00 0.00 0.00 0.00 2.00 -1.00 1.00 2.00 0.00 0.00 0.00 0.00 0.00 0.00 0.00 0.00 0.00 0.00\n",
      " 0.00 0.00 0.00 0.00 0.00 0.00 0.00 0.00 0.00 0.00 2.00 -1.00 1.00 0.00 0.00 0.00 0.00 0.00 0.00 0.00 0.00 0.00 0.00 0.00\n",
      " 0.00 0.00 0.00 0.00 0.00 0.00 0.00 0.00 0.00 0.00 2.00 1.00 2.00 0.00 0.00 0.00 0.00 0.00 0.00 0.00 0.00 0.00 0.00 0.00\n",
      " 0.00 0.00 0.00 0.00 0.00 0.00 0.00 0.00 0.00 0.00 0.00 0.00 0.00 0.00 0.00 0.00 0.00 0.00 0.00 0.00 0.00 0.00 0.00 0.00\n",
      " 0.00 0.00 0.00 0.00 0.00 0.00 0.00 0.00 0.00 0.00 0.00 0.00 0.00 0.00 0.00 0.00 0.00 0.00 0.00 0.00 0.00 0.00 0.00 0.00\n",
      " 0.00 0.00 0.00 0.00 0.00 0.00 0.00 0.00 0.00 0.00 0.00 0.00 0.00 0.00 0.00 0.00 0.00 0.00 0.00 0.00 0.00 0.00 0.00 0.00\n",
      " 0.00 0.00 0.00 0.00 0.00 0.00 0.00 0.00 0.00 0.00 0.00 0.00 0.00 0.00 0.00 0.00 0.00 0.00 0.00 0.00 0.00 0.00 0.00 0.00\n",
      " 0.00 0.00 0.00 0.00 0.00 0.00 0.00 0.00 0.00 0.00 0.00 0.00 0.00 0.00 0.00 0.00 0.00 0.00 0.00 0.00 0.00 0.00 0.00 0.00\n",
      " 0.00 0.00 0.00 0.00 0.00 0.00 0.00 0.00 0.00 0.00 0.00 0.00 0.00 0.00 0.00 0.00 0.00 0.00 0.00 0.00 0.00 0.00 0.00 0.00\n",
      "\n"
     ]
    }
   ],
   "source": [
    "show_table(table)"
   ]
  },
  {
   "cell_type": "code",
   "execution_count": 952,
   "metadata": {},
   "outputs": [],
   "source": [
    "def get_cell(table, i, j):\n",
    "    if 0 <= i < len(table) and 0 <= j < len(table[0]):\n",
    "        return table[i][j]\n",
    "    return -3\n",
    "\n",
    "def get_adjacent_cells(table, i, j):\n",
    "    adjacent_cells = []\n",
    "    \n",
    "    for dx, dy in [(-1, -1), (0, -1), (1, -1), (1, 0), (1, 1), (0, 1), (-1, 1), (-1, 0)]:\n",
    "        ni, nj = i + dy, j + dx\n",
    "        cell_value = get_cell(table, ni, nj)\n",
    "        \n",
    "        if cell_value != -3:\n",
    "            adjacent_cells.append((ni, nj, cell_value))\n",
    "    \n",
    "    return adjacent_cells\n",
    "\n",
    "def adjacent_cell_with_positive_numbers(table, i, j):\n",
    "    return [(ni, nj, cell_value) for ni, nj, cell_value in get_adjacent_cells(table, i, j) if cell_value > 0]\n",
    "\n",
    "def num_adjacent_cell_with_positive_numbers(table, i, j):\n",
    "    return len(adjacent_cell_with_positive_numbers(table, i, j))\n",
    "\n",
    "def mines_around_cell(table, i, j):\n",
    "    return sum(1 for ni, nj, cell_value in get_adjacent_cells(table, i, j) if cell_value == -2)\n",
    "\n",
    "def empty_cells_around(table, i, j):\n",
    "    return {(ni, nj) for ni, nj, cell_value in get_adjacent_cells(table, i, j) if cell_value == 0}\n",
    "\n",
    "def heuristic(table, i, j):\n",
    "    mines_around, empty_cells = 0, set()\n",
    "    adjacent_cells = adjacent_cell_with_positive_numbers(table, i, j)\n",
    "    \n",
    "    if not adjacent_cells or get_cell(table, i, j) != 0:\n",
    "        return 0\n",
    "\n",
    "    for ni, nj, cell_value in adjacent_cells:\n",
    "        mines_around += cell_value - mines_around_cell(table, ni, nj)\n",
    "        empty_cells.update(empty_cells_around(table, ni, nj))\n",
    "        \n",
    "    return mines_around / len(empty_cells) if empty_cells else int(mines_around > 0)\n",
    "\n",
    "def special_case(table, i, j):\n",
    "    cases = [\n",
    "        [[(0, -2), (1, -2), (2, -2), (2, -1), (2, 0)], [(0, -1), (1, 0)], (1, -1)], # Arriba-Derecha\n",
    "        [[(2, 0), (2, 1), (2, 2), (1, 2), (0, 2)], [(1, 0), (0, 1)], (1, 1)], # Derecha-Abajo\n",
    "        [[(2, 0), (2, -1), (2, -2), (1, -2), (0, -2)], [(1, 0), (0, -1)], (1, -1)], # Abajo-Izquierda\n",
    "        [[(-2, 0), (-2, -1), (-2, -2), (-1, -2), (0, -2)], [(-1, 0), (0, -1)], (-1, -1)], # Izquierda-Arriba\n",
    "    ]\n",
    "\n",
    "    if get_cell(table, i, j) == 0:\n",
    "        for case in cases:\n",
    "            is_lockeds = all(get_cell(table, i + dy, j + dx) < 0 for dx, dy in case[0])\n",
    "            is_numbers = all(get_cell(table, i + dy, j + dx) > 0 for dx, dy in case[1])\n",
    "            is_one = case[2] == 1\n",
    "\n",
    "            if is_lockeds and is_numbers and is_one:\n",
    "                return 100\n",
    "\n",
    "    return heuristic(table, i, j)"
   ]
  },
  {
   "cell_type": "code",
   "execution_count": 953,
   "metadata": {},
   "outputs": [],
   "source": [
    "class TreeNode:\n",
    "    def __init__(self, table):\n",
    "        self.table = table\n",
    "        self.children = []\n",
    "\n",
    "    def find_paths(self):\n",
    "        def dfs(node, leaves):\n",
    "            if node is None:\n",
    "                return\n",
    "\n",
    "            # Si el nodo actual es una hoja, agregarlo a la lista de hojas\n",
    "            if not node.children:\n",
    "                leaves.append(node.table)\n",
    "\n",
    "            # Recorrer todos los hijos del nodo\n",
    "            for child in node.children:\n",
    "                dfs(child, leaves)\n",
    "\n",
    "        leaves = []\n",
    "        dfs(self, leaves)\n",
    "        return leaves"
   ]
  },
  {
   "cell_type": "code",
   "execution_count": 954,
   "metadata": {},
   "outputs": [],
   "source": [
    "def calculate_heuristics(table):\n",
    "    heuristics = []\n",
    "    for i in range(len(table)):\n",
    "        for j in range(len(table[0])):\n",
    "            value = special_case(table, i, j)\n",
    "            if value > 0:\n",
    "                heuristics.append((i, j, value))\n",
    "    return heuristics\n",
    "\n",
    "def is_a_valid_land_mine(table):\n",
    "    for i in range(len(table)):\n",
    "        for j in range(len(table[i])):\n",
    "            cell_value = get_cell(table, i, j)\n",
    "            if 0 < cell_value < mines_around_cell(table, i, j):\n",
    "                return False\n",
    "    return True\n",
    "\n",
    "def is_possible_to_continue(table):\n",
    "    for i in range(len(table)):\n",
    "        for j in range(len(table[i])):\n",
    "            cell = get_cell(table, i, j)\n",
    "            if 0 < cell and mines_around_cell(table, i, j) < cell:\n",
    "                return True\n",
    "    return False\n",
    "\n",
    "def calculate_probability(matrices, target_number, row_index, col_index):\n",
    "    total_matrices = len(matrices)\n",
    "    count = sum(matrix[row_index][col_index] == target_number for matrix in matrices)\n",
    "    return 0 if total_matrices == 0 else (count / total_matrices), count > 0\n",
    "\n",
    "def get_probabilities(table, paths, n, m):\n",
    "    prob_table = np.ones((n, m))\n",
    "    \n",
    "    for i in range(n):\n",
    "        for j in range(m):\n",
    "            prob, condition = calculate_probability(paths, -2, i, j)\n",
    "            num_adj = num_adjacent_cell_with_positive_numbers(table, i, j)\n",
    "            cell = get_cell(table, i, j)\n",
    "            \n",
    "            if cell == -2 or cell == 0 and (condition or num_adj > 0):\n",
    "                prob_table[i, j] = prob\n",
    "            else:\n",
    "                prob_table[i, j] = 1\n",
    "                \n",
    "    return prob_table\n",
    "\n",
    "def find_min_position(matrix):\n",
    "    np_matrix = np.array(matrix)\n",
    "    return np.unravel_index(np.argmin(np_matrix), np_matrix.shape)\n",
    "\n",
    "def find_best_movement(table, root, n, m):\n",
    "    paths = root.find_paths()\n",
    "    valid_matrices = [path for path in paths if not is_possible_to_continue(path)]\n",
    "    prob_table = get_probabilities(table, valid_matrices, n, m)\n",
    "    show_table(prob_table)\n",
    "    return find_min_position(prob_table)\n",
    "\n",
    "def table_to_tuple(table):\n",
    "    return tuple(tuple(row) for row in table)\n",
    "\n",
    "def generate_possibilities(root, visited_tables=set()):\n",
    "    heuristics_list = calculate_heuristics(root.table)\n",
    "    ordered_heuristics_list = sorted(heuristics_list, key=lambda x: x[2])[::-1]\n",
    "    \n",
    "    if not is_possible_to_continue(root.table) or not ordered_heuristics_list:\n",
    "        return\n",
    "\n",
    "    for land_mine in ordered_heuristics_list:\n",
    "        i, j, _ = land_mine\n",
    "        new_table = [row.copy() for row in root.table]\n",
    "        new_table[i][j] = -2\n",
    "        \n",
    "        if is_a_valid_land_mine(new_table):\n",
    "            table_tuple = table_to_tuple(new_table)\n",
    "            \n",
    "            if table_tuple not in visited_tables:\n",
    "                visited_tables.add(table_tuple)\n",
    "                node = TreeNode(new_table)\n",
    "\n",
    "                root.children.append(node)\n",
    "                generate_possibilities(node, visited_tables)"
   ]
  },
  {
   "cell_type": "code",
   "execution_count": 955,
   "metadata": {},
   "outputs": [],
   "source": [
    "heuristics_list = calculate_heuristics(table)\n",
    "ordered_heuristics_list = sorted(heuristics_list, key=lambda x: x[2])"
   ]
  },
  {
   "cell_type": "code",
   "execution_count": 956,
   "metadata": {},
   "outputs": [],
   "source": [
    "i, j, _ = ordered_heuristics_list.pop()\n",
    "new_table = [list(row).copy() for row in table]\n",
    "new_table[i][j] = -2"
   ]
  },
  {
   "cell_type": "code",
   "execution_count": null,
   "metadata": {},
   "outputs": [],
   "source": [
    "rootNode = TreeNode(new_table)\n",
    "generate_possibilities(rootNode)"
   ]
  },
  {
   "cell_type": "code",
   "execution_count": null,
   "metadata": {},
   "outputs": [],
   "source": [
    "square_i, square_j = find_best_movement(table, rootNode, len(table), len(table[0]))"
   ]
  },
  {
   "cell_type": "code",
   "execution_count": null,
   "metadata": {},
   "outputs": [],
   "source": [
    "def show_best_movement(table_dims, i, j, square_size):\n",
    "    x, y, w, h = table_dims\n",
    "    sx, sy = j * square_size, i * square_size\n",
    "        \n",
    "    table = screenshot[y:y+h, x:x+w]    \n",
    "    cv2.rectangle(table, (sx, sy), (sx+square_size, sy+square_size), (255, 0, 0), 2)\n",
    "\n",
    "    plt.imshow(cv2.cvtColor(table, cv2.COLOR_BGR2RGB), cmap='gray')\n",
    "    plt.axis('off')  # Ocultar los ejes\n",
    "    plt.show()"
   ]
  },
  {
   "cell_type": "code",
   "execution_count": null,
   "metadata": {},
   "outputs": [],
   "source": [
    "show_best_movement(table_dims, square_i, square_j, square_size)"
   ]
  },
  {
   "cell_type": "code",
   "execution_count": null,
   "metadata": {},
   "outputs": [],
   "source": []
  }
 ],
 "metadata": {
  "kernelspec": {
   "display_name": "Python 3 (ipykernel)",
   "language": "python",
   "name": "python3"
  },
  "language_info": {
   "codemirror_mode": {
    "name": "ipython",
    "version": 3
   },
   "file_extension": ".py",
   "mimetype": "text/x-python",
   "name": "python",
   "nbconvert_exporter": "python",
   "pygments_lexer": "ipython3",
   "version": "3.12.4"
  }
 },
 "nbformat": 4,
 "nbformat_minor": 4
}
