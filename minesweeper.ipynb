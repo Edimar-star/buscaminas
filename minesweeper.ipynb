{
 "cells": [
  {
   "cell_type": "markdown",
   "metadata": {},
   "source": [
    "# Dependencies"
   ]
  },
  {
   "cell_type": "code",
   "execution_count": 95,
   "metadata": {},
   "outputs": [],
   "source": [
    "# !pip install pyautogui opencv-python easyocr --user"
   ]
  },
  {
   "cell_type": "markdown",
   "metadata": {},
   "source": [
    "# Libraries"
   ]
  },
  {
   "cell_type": "code",
   "execution_count": 96,
   "metadata": {},
   "outputs": [],
   "source": [
    "import cv2\n",
    "import easyocr\n",
    "import logging\n",
    "import warnings\n",
    "import pyautogui\n",
    "import numpy as np"
   ]
  },
  {
   "cell_type": "code",
   "execution_count": 97,
   "metadata": {},
   "outputs": [],
   "source": [
    "def take_screenshot():\n",
    "    screenshot = pyautogui.screenshot()\n",
    "    screenshot = np.array(screenshot)\n",
    "    return cv2.cvtColor(screenshot, cv2.COLOR_RGB2BGR)\n",
    "\n",
    "def get_colors():\n",
    "    return np.array([\n",
    "        [81, 215, 170],  # Green light\n",
    "        [73, 209, 162],  # Green\n",
    "        [159, 194, 229], # Nude light\n",
    "        [153, 184, 215], # Nude\n",
    "        [58, 175, 135]   # line\n",
    "    ], dtype=np.uint8)\n",
    "\n",
    "def create_mask_colors(screenshot, colors):\n",
    "    return [cv2.inRange(screenshot, color, color) for color in colors]\n",
    "\n",
    "def get_table_contours(masks):\n",
    "    combined_mask = np.bitwise_or.reduce(masks)\n",
    "    contours, _ = cv2.findContours(combined_mask, cv2.RETR_EXTERNAL, cv2.CHAIN_APPROX_SIMPLE)\n",
    "    return contours\n",
    "\n",
    "def get_table_dimensions(contours):\n",
    "    largest_contour = max(contours, key=cv2.contourArea)\n",
    "    x, y, w, h = cv2.boundingRect(largest_contour)\n",
    "    return x, y, w, h"
   ]
  },
  {
   "cell_type": "code",
   "execution_count": 98,
   "metadata": {},
   "outputs": [],
   "source": [
    "screenshot = take_screenshot()\n",
    "colors = get_colors()\n",
    "masks = create_mask_colors(screenshot, colors)\n",
    "\n",
    "table_contours = get_table_contours(masks)\n",
    "table_dims = get_table_dimensions(table_contours)\n",
    "\n",
    "square_dims = {\n",
    "    (450, 360): 45, # Easy\n",
    "    (540, 420): 30, # Medium\n",
    "    (600, 500): 25, # Hard\n",
    "}\n",
    "\n",
    "square_size = square_dims[(table_dims[2], table_dims[3])]"
   ]
  },
  {
   "cell_type": "code",
   "execution_count": 99,
   "metadata": {},
   "outputs": [],
   "source": [
    "logging.getLogger().setLevel(logging.ERROR)\n",
    "reader = easyocr.Reader(['en'])"
   ]
  },
  {
   "cell_type": "code",
   "execution_count": 100,
   "metadata": {},
   "outputs": [],
   "source": [
    "def get_square(screenshot, table_dims, i, j, square_size):\n",
    "    dx, dy = j * square_size, i * square_size\n",
    "    x, y, w, h = (\n",
    "        table_dims[0] + dx, \n",
    "        table_dims[1] + dy, \n",
    "        square_size, \n",
    "        square_size\n",
    "    )\n",
    "    return screenshot[y:y+h, x:x+w]\n",
    "\n",
    "def scale_image(square, width, inter=cv2.INTER_AREA):\n",
    "    original_height, original_width = square.shape[:2]\n",
    "    if original_width == width:\n",
    "        return square\n",
    "    \n",
    "    ratio = width / float(original_width)\n",
    "    height = int(original_height * ratio)\n",
    "    \n",
    "    return cv2.resize(square, (width, height), interpolation=inter)\n",
    "\n",
    "def str_to_number(str_value):\n",
    "    try:\n",
    "        return int(str_value)\n",
    "    except ValueError:\n",
    "        return None\n",
    "\n",
    "def get_number(square):\n",
    "    results = reader.readtext(square)\n",
    "    if not results:\n",
    "        return None\n",
    "\n",
    "    sorted_results = sorted(results, key=lambda x: x[2], reverse=True)\n",
    "    return int(sorted_results[0][1])\n",
    "    \n",
    "def get_cell_value(square, colors):\n",
    "    for index, color in enumerate(colors):\n",
    "        mask = cv2.inRange(square, color, color)\n",
    "        color_percentage = (np.sum(mask) / (mask.size * 255)) * 100\n",
    "        \n",
    "        if color_percentage > 90:\n",
    "            return 0 if index < 2 else -1\n",
    "    \n",
    "    return get_number(square)"
   ]
  },
  {
   "cell_type": "code",
   "execution_count": 101,
   "metadata": {},
   "outputs": [
    {
     "name": "stdout",
     "output_type": "stream",
     "text": [
      "Fila 1 de 8 leida\n",
      "Fila 2 de 8 leida\n",
      "Fila 3 de 8 leida\n",
      "Fila 4 de 8 leida\n",
      "Fila 5 de 8 leida\n",
      "Fila 6 de 8 leida\n",
      "Fila 7 de 8 leida\n",
      "Fila 8 de 8 leida\n"
     ]
    }
   ],
   "source": [
    "_, _, width, height = table_dims\n",
    "table = np.zeros((height // square_size, width // square_size))\n",
    "\n",
    "for i in range(len(table)):\n",
    "    for j in range(len(table[i])):\n",
    "        square = get_square(screenshot, table_dims, i, j, square_size)\n",
    "        resized_square = scale_image(square, 5 * square_size)\n",
    "        table[i, j] = get_cell_value(resized_square, colors[:4])\n",
    "    print(f\"Fila {i + 1} de {n} leida\")"
   ]
  },
  {
   "cell_type": "code",
   "execution_count": 102,
   "metadata": {},
   "outputs": [],
   "source": [
    "def show_table(table):\n",
    "    str_value = \"\"\n",
    "    for row in table:\n",
    "        for col in row:\n",
    "            value = f\" {float(col):.2f}\"\n",
    "            str_value += value + \"\"\n",
    "        str_value += \"\\n\"\n",
    "\n",
    "    print(str_value)"
   ]
  },
  {
   "cell_type": "code",
   "execution_count": 103,
   "metadata": {},
   "outputs": [
    {
     "name": "stdout",
     "output_type": "stream",
     "text": [
      " -1.00 -1.00 1.00 1.00 1.00 -1.00 -1.00 -1.00 -1.00 -1.00\n",
      " -1.00 -1.00 1.00 0.00 1.00 -1.00 -1.00 -1.00 -1.00 -1.00\n",
      " -1.00 1.00 2.00 2.00 1.00 1.00 1.00 1.00 -1.00 -1.00\n",
      " -1.00 1.00 0.00 1.00 -1.00 1.00 0.00 2.00 2.00 1.00\n",
      " 1.00 3.00 0.00 2.00 -1.00 1.00 2.00 0.00 0.00 0.00\n",
      " 0.00 0.00 0.00 1.00 -1.00 -1.00 1.00 0.00 0.00 0.00\n",
      " 0.00 0.00 0.00 2.00 1.00 1.00 2.00 0.00 0.00 0.00\n",
      " 0.00 0.00 0.00 0.00 0.00 0.00 0.00 0.00 0.00 0.00\n",
      "\n"
     ]
    }
   ],
   "source": [
    "show_table(table)"
   ]
  },
  {
   "cell_type": "code",
   "execution_count": 104,
   "metadata": {},
   "outputs": [],
   "source": [
    "def get_cell(table, i, j):\n",
    "    if 0 <= i < len(table) and 0 <= j < len(table[0]):\n",
    "        return table[i][j]\n",
    "    return None\n",
    "\n",
    "def get_adjacent_cells(table, i, j):\n",
    "    adjacent_cells = []\n",
    "    \n",
    "    for dx, dy in [(-1, -1), (0, -1), (1, -1), (1, 0), (1, 1), (0, 1), (-1, 1), (-1, 0)]:\n",
    "        ni, nj = i + dy, j + dx\n",
    "        cell_value = get_cell(table, ni, nj)\n",
    "        \n",
    "        if cell_value is not None:\n",
    "            adjacent_cells.append((ni, nj, cell_value))\n",
    "    \n",
    "    return adjacent_cells\n",
    "\n",
    "def adjacent_cell_with_positive_numbers(table, i, j):\n",
    "    return [(ni, nj, cell_value) for ni, nj, cell_value in get_adjacent_cells(table, i, j) if cell_value > 0]\n",
    "\n",
    "def mines_around_cell(table, i, j):\n",
    "    return sum(1 for ni, nj, cell_value in get_adjacent_cells(table, i, j) if cell_value == -2)\n",
    "\n",
    "def empty_cells_around(table, i, j):\n",
    "    return {(ni, nj) for ni, nj, cell_value in get_adjacent_cells(table, i, j) if cell_value == 0}\n",
    "\n",
    "def heuristic(table, i, j):\n",
    "    mines_around, empty_cells = 0, set()\n",
    "    adjacent_cells = adjacent_cell_with_positive_numbers(table, i, j)\n",
    "    \n",
    "    if not adjacent_cells or get_cell(table, i, j) != 0:\n",
    "        return 0\n",
    "    \n",
    "    for ni, nj, cell_value in adjacent_cells:\n",
    "        mines_around += cell_value - mines_around_cell(table, ni, nj)\n",
    "        empty_cells.update(empty_cells_around(table, ni, nj))\n",
    "        \n",
    "    return mines_around / len(empty_cells) if empty_cells else int(mines_around > 0)"
   ]
  },
  {
   "cell_type": "code",
   "execution_count": 105,
   "metadata": {},
   "outputs": [],
   "source": [
    "def get_heuristics(table):\n",
    "    heuristics = []\n",
    "    for i in range(len(table)):\n",
    "        for j in range(len(table[0])):\n",
    "            value = heuristic(table, i, j)\n",
    "            if value != 0:\n",
    "                heuristics.append((i, j, value))\n",
    "    return heuristics\n",
    "\n",
    "def is_a_valid_land_mine(table, land_mine):\n",
    "    for i in range(len(table)):\n",
    "        for j in range(len(table[i])):\n",
    "            cell_value = get_cell(table, i, j)\n",
    "            if 0 < cell_value < mines_around_cell(table, i, j):\n",
    "                return False\n",
    "    return True\n",
    "\n",
    "def is_possible_to_continue(table):\n",
    "    for i in range(len(table)):\n",
    "        for j in range(len(table[i])):\n",
    "            cell = get_cell(table, i, j)\n",
    "            if 0 < cell and mines_around_cell(table, i, j) < cell:\n",
    "                return True\n",
    "    return False\n",
    "\n",
    "def best_movement(table):\n",
    "    movement = None\n",
    "    min_mines = 9\n",
    "    \n",
    "    for i in range(len(table)):\n",
    "        for j in range(len(table[i])):\n",
    "            cell = get_cell(table, i, j)\n",
    "            \n",
    "            if cell == 0:\n",
    "                mines = mines_around_cell(table, i, j)\n",
    "                num_adj_cells = len(adjacent_cell_with_positive_numbers(table, i, j))\n",
    "                \n",
    "                if mines < min_mines and num_adj_cells > 0:\n",
    "                    min_mines = mines\n",
    "                    movement = (i, j)\n",
    "    \n",
    "    return movement\n",
    "\n",
    "def make_posibilities(table, heuristics_list):\n",
    "    ordered_heuristics_list = sorted(heuristics_list, key=lambda x: x[2])\n",
    "\n",
    "    if not is_possible_to_continue(table) or not ordered_heuristics_list:\n",
    "        return\n",
    "    \n",
    "    land_mine = ordered_heuristics_list.pop()\n",
    "    if is_a_valid_land_mine(table, land_mine):\n",
    "        i, j, value = land_mine\n",
    "        table[i][j] = -2\n",
    "        new_heuristics = get_heuristics(table)\n",
    "        make_posibilities(table, new_heuristics)\n",
    "    else:\n",
    "        make_posibilities(table, ordered_heuristics_list)"
   ]
  },
  {
   "cell_type": "code",
   "execution_count": 106,
   "metadata": {},
   "outputs": [],
   "source": [
    "heuristics_list = get_heuristics(table)\n",
    "make_posibilities(table, heuristics_list)\n",
    "square_i, square_j = best_movement(table)"
   ]
  },
  {
   "cell_type": "code",
   "execution_count": 107,
   "metadata": {},
   "outputs": [],
   "source": [
    "def save_images(table_dims, i, j, square_size):\n",
    "    x, y, w, h = table_dims\n",
    "    sx, sy = j * square_size, i * square_size\n",
    "    \n",
    "    table = screenshot[y:y+h, x:x+w]\n",
    "    cv2.imwrite(\"./img/table.png\", table)\n",
    "    \n",
    "    cv2.rectangle(table, (sx, sy), (sx+square_size, sy+square_size), (255, 0, 0), 2)\n",
    "    cv2.imwrite(\"./img/best_movement.png\", table)"
   ]
  },
  {
   "cell_type": "code",
   "execution_count": 108,
   "metadata": {},
   "outputs": [],
   "source": [
    "save_images(table_dims, square_i, square_j, square_size)"
   ]
  },
  {
   "cell_type": "code",
   "execution_count": null,
   "metadata": {},
   "outputs": [],
   "source": []
  }
 ],
 "metadata": {
  "kernelspec": {
   "display_name": "Python 3",
   "language": "python",
   "name": "python3"
  },
  "language_info": {
   "codemirror_mode": {
    "name": "ipython",
    "version": 3
   },
   "file_extension": ".py",
   "mimetype": "text/x-python",
   "name": "python",
   "nbconvert_exporter": "python",
   "pygments_lexer": "ipython3",
   "version": "3.9.11"
  }
 },
 "nbformat": 4,
 "nbformat_minor": 2
}
