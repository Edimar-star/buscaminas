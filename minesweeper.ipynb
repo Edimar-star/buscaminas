{
 "cells": [
  {
   "cell_type": "markdown",
   "metadata": {},
   "source": [
    "# Dependencies"
   ]
  },
  {
   "cell_type": "code",
   "execution_count": null,
   "metadata": {},
   "outputs": [],
   "source": [
    "%pip install pyautogui opencv-python easyocr --user"
   ]
  },
  {
   "cell_type": "markdown",
   "metadata": {},
   "source": [
    "# Libraries"
   ]
  },
  {
   "cell_type": "code",
   "execution_count": 79,
   "metadata": {},
   "outputs": [],
   "source": [
    "import cv2\n",
    "import easyocr\n",
    "import logging\n",
    "import pyautogui\n",
    "import numpy as np"
   ]
  },
  {
   "cell_type": "code",
   "execution_count": 80,
   "metadata": {},
   "outputs": [],
   "source": [
    "def take_screenshot():\n",
    "    screenshot = pyautogui.screenshot()\n",
    "    screenshot = np.array(screenshot)\n",
    "    \n",
    "    return cv2.cvtColor(screenshot, cv2.COLOR_RGB2BGR)\n",
    "\n",
    "def get_colors():\n",
    "    color1 = np.array([81, 215, 170]) # Green light\n",
    "    color2 = np.array([73, 209, 162]) # Green\n",
    "    color3 = np.array([159, 194, 229]) # Nude light\n",
    "    color4 = np.array([153, 184, 215]) # Nude\n",
    "    color5 = np.array([58, 175, 135]) # line\n",
    "\n",
    "    return color1, color2, color3, color4, color5\n",
    "\n",
    "def create_mask_colors(screenshot, color1, color2, color3, color4, color5):\n",
    "    mask1 = cv2.inRange(screenshot, color1, color1)\n",
    "    mask2 = cv2.inRange(screenshot, color2, color2)\n",
    "    mask3 = cv2.inRange(screenshot, color3, color3)\n",
    "    mask4 = cv2.inRange(screenshot, color4, color4)\n",
    "    mask5 = cv2.inRange(screenshot, color5, color5)\n",
    "\n",
    "    return mask1, mask2, mask3, mask4, mask5\n",
    "\n",
    "def get_table_contours(mask1, mask2, mask3, mask4, mask5):\n",
    "    combined_mask = cv2.bitwise_or(mask1, mask2)\n",
    "    combined_mask = cv2.bitwise_or(combined_mask, mask3)\n",
    "    combined_mask = cv2.bitwise_or(combined_mask, mask4)\n",
    "    combined_mask = cv2.bitwise_or(combined_mask, mask5)\n",
    "    \n",
    "    contours, _ = cv2.findContours(combined_mask, cv2.RETR_EXTERNAL, cv2.CHAIN_APPROX_SIMPLE)\n",
    "    return contours\n",
    "\n",
    "def get_table_dimensions(contours, screenshot):\n",
    "    largest_contour = max(contours, key=cv2.contourArea)\n",
    "    x, y, w, h = cv2.boundingRect(largest_contour)\n",
    "\n",
    "    table = screenshot[y:y+h, x:x+w]\n",
    "    cv2.imwrite(\"./img/table.png\", table)\n",
    "\n",
    "    return x, y, w, h"
   ]
  },
  {
   "cell_type": "code",
   "execution_count": 81,
   "metadata": {},
   "outputs": [],
   "source": [
    "screenshot = take_screenshot()\n",
    "color1, color2, color3, color4, color5 = get_colors()\n",
    "mask1, mask2, mask3, mask4, mask5 = create_mask_colors(screenshot, color1, color2, color3, color4, color5)\n",
    "\n",
    "table_contours = get_table_contours(mask1, mask2, mask3, mask4, mask5)\n",
    "table_dims = get_table_dimensions(table_contours, screenshot)\n",
    "\n",
    "square_dims = {\n",
    "    (450, 360): 45, # Easy\n",
    "    (540, 420): 30, # Medium\n",
    "    (600, 500): 25, # Hard\n",
    "}\n",
    "\n",
    "square_size = square_dims[(table_dims[2], table_dims[3])]"
   ]
  },
  {
   "cell_type": "code",
   "execution_count": 82,
   "metadata": {},
   "outputs": [
    {
     "data": {
      "text/plain": [
       "((152, 197, 600, 500), 25)"
      ]
     },
     "execution_count": 82,
     "metadata": {},
     "output_type": "execute_result"
    }
   ],
   "source": [
    "table_dims, square_size"
   ]
  },
  {
   "cell_type": "code",
   "execution_count": 106,
   "metadata": {},
   "outputs": [],
   "source": [
    "def get_square(screenshot, table_dims, i, j, square_size):\n",
    "    dx, dy = j * square_size, i * square_size\n",
    "    x, y, w, h = (\n",
    "        table_dims[0] + dx, \n",
    "        table_dims[1] + dy, \n",
    "        square_size, \n",
    "        square_size\n",
    "    )\n",
    "    return screenshot[y:y+h, x:x+w]\n",
    "\n",
    "def scale_image(square, width, inter=cv2.INTER_AREA):\n",
    "    original_height, original_width = square.shape[:2]\n",
    "    ratio = width / float(original_width)\n",
    "    height = int(original_height * ratio)\n",
    "\n",
    "    return cv2.resize(square, (width, height), interpolation=inter)\n",
    "\n",
    "def str_to_number(str_value):\n",
    "    try:\n",
    "        number = int(str_value)\n",
    "        return number\n",
    "    except ValueError:\n",
    "        return None\n",
    "    \n",
    "def get_number(square):\n",
    "    reader = easyocr.Reader(['en'])\n",
    "    results = reader.readtext(square)\n",
    "\n",
    "    array = np.array(results, dtype=object)\n",
    "    sorted_indexes = np.argsort(array[:, 2])[::-1]\n",
    "\n",
    "    sorted_array = array[sorted_indexes]\n",
    "    number = int(sorted_array[0, 1])\n",
    "\n",
    "    return number\n",
    "    \n",
    "def get_cell_value(square, colors):\n",
    "    for index, color in enumerate(colors):\n",
    "        mask = cv2.inRange(square, color, color)\n",
    "        color_percentage = (np.sum(mask) / (mask.size * 255)) * 100\n",
    "        \n",
    "        if color_percentage > 90:\n",
    "            return 0 if index < 2 else -1\n",
    "    \n",
    "    return get_number(square)"
   ]
  },
  {
   "cell_type": "code",
   "execution_count": 107,
   "metadata": {},
   "outputs": [
    {
     "name": "stdout",
     "output_type": "stream",
     "text": [
      "Fila 1 de 20 leida\n",
      "Fila 2 de 20 leida\n",
      "Fila 3 de 20 leida\n",
      "Fila 4 de 20 leida\n",
      "Fila 5 de 20 leida\n",
      "Fila 6 de 20 leida\n",
      "Fila 7 de 20 leida\n",
      "Fila 8 de 20 leida\n",
      "Fila 9 de 20 leida\n",
      "Fila 10 de 20 leida\n",
      "Fila 11 de 20 leida\n",
      "Fila 12 de 20 leida\n",
      "Fila 13 de 20 leida\n",
      "Fila 14 de 20 leida\n",
      "Fila 15 de 20 leida\n",
      "Fila 16 de 20 leida\n",
      "Fila 17 de 20 leida\n",
      "Fila 18 de 20 leida\n",
      "Fila 19 de 20 leida\n",
      "Fila 20 de 20 leida\n"
     ]
    }
   ],
   "source": [
    "logging.getLogger().setLevel(logging.ERROR)\n",
    "\n",
    "_, _, width, height = table_dims\n",
    "n, m = height // square_size, width // square_size\n",
    "table = np.zeros((n, m))\n",
    "\n",
    "for i in range(n):\n",
    "    for j in range(m):\n",
    "        square = get_square(screenshot, table_dims, i, j, square_size)\n",
    "        resized_square = scale_image(square, 5 * square_size)\n",
    "        number = get_cell_value(resized_square, [color1, color2, color3, color4])\n",
    "        table[i, j] = number\n",
    "    print(f\"Fila {i + 1} de {n} leida\")"
   ]
  },
  {
   "cell_type": "code",
   "execution_count": 159,
   "metadata": {},
   "outputs": [
    {
     "name": "stdout",
     "output_type": "stream",
     "text": [
      "  0    0    0    0    0    0    0    0    0    0    0    0    0    0    0    0    0    0    0    0    0    0    0    0  \n",
      "  0    0    0    0    0    0    0    0    0    0    0    0    0    0    0    0    0    0    0    0    0    0    0    0  \n",
      "  0    0    0    0    0    3    1    2    0    0    0    0    0    0    0    0    0    0    0    0    0    0    0    0  \n",
      "  0    0    0    0    0    2   -1    2    0    0    0    0    0    0    0    0    0    0    0    0    0    0    0    0  \n",
      "  0    0    2    1    1    1   -1    1    2    0    0    0    0    0    0    0    0    0    0    0    0    0    0    0  \n",
      "  0    0    1   -1   -1   -1   -1   -1    2    0    0    0    0    0    0    0    0    0    0    0    0    0    0    0  \n",
      "  0    0    2    1    1   -1   -1   -1    2    0    0    0    0    0    0    0    0    0    4    0    0    0    0    0  \n",
      "  0    0    0    0    1   -1   -1   -1    1    1    0    0    0    0    0    0    0    0    0    0    0    0    0    0  \n",
      "  0    0    0    0    1   -1   -1   -1   -1    1    0    0    0    0    0    0    0    0    0    0    0    0    0    0  \n",
      "  0    0    0    0    1   -1   -1   -1   -1    1    0    0    0    0    0    0    0    0    0    0    0    0    0    0  \n",
      "  0    0    0    0    2   -1    1    1    1    1    0    0    0    0    0    0    0    0    0    0    0    0    0    0  \n",
      "  0    0    0    0    2   -1    2    0    0    0    0    0    0    0    0    0    0    0    0    0    0    0    0    0  \n",
      "  0    0    0    0    2    1    3    0    0    0    0    0    0    0    0    0    0    0    0    0    0    2    0    0  \n",
      "  0    0    0    0    0    0    0    0    0    0    0    0    0    0    0    0    0    0    0    0    0    0    0    0  \n",
      "  0    0    0    0    0    0    0    0    0    0    0    0    0    0    0    0    0    0    0    0    0    0    0    0  \n",
      "  0    0    0    0    0    0    0    0    0    0    0    0    0    0    2    0    0    0    0    0    0    0    0    0  \n",
      "  0    0    0    0    0    0    0    0    0    0    0    0    0    0    0    0    0    0    0    0    0    0    0    0  \n",
      "  0    0    0    0    0    0    0    0    0    0    0    0    0    0    0    0    0    0    0    0    0    0    0    0  \n",
      "  0    0    0    0    0    0    0    0    0    0    0    0    0    0    0    0    0    0    0    0    0    0    0    0  \n",
      "  0    0    0    0    0    0    0    0    0    0    0    0    0    0    0    0    0    0    0    0    0    0    0    0  \n",
      "\n"
     ]
    }
   ],
   "source": [
    "str_value = \"\"\n",
    "for row in table:\n",
    "    for col in row:\n",
    "        value = f\"  {int(col)}  \" if col > -1 else f\" {int(col)}  \"\n",
    "        str_value += value + \"\"\n",
    "    str_value += \"\\n\"\n",
    "\n",
    "print(str_value)"
   ]
  },
  {
   "cell_type": "code",
   "execution_count": 150,
   "metadata": {},
   "outputs": [],
   "source": [
    "def get_cell(table, i, j):\n",
    "    if 0 <= i < len(table) and 0 <= j < len(table[0]):\n",
    "        return table[i][j]\n",
    "    else:\n",
    "        return None\n",
    "\n",
    "def adjacent_info(table, i, j):\n",
    "    empty_cells, mines = [], 0\n",
    "    for dx, dy in [(-1, -1), (0, -1), (1, -1), (1, 0), (1, 1), (0, 1), (-1, 1), (-1, 0)]:\n",
    "        ni, nj = i + dy, j + dx\n",
    "        cell = get_cell(table, ni, nj)\n",
    "        \n",
    "        if cell == 0 and get_cell(table, i, j) > 0:\n",
    "            empty_cells.append((ni, nj))\n",
    "        mines += int(cell == -2)\n",
    "\n",
    "    return empty_cells, mines\n",
    "    \n",
    "def get_num_empty_adjacent_cells(table, i, j):\n",
    "    empty_cells, mines = set(), 0\n",
    "    for dx, dy in [(-1, -1), (0, -1), (1, -1), (1, 0), (1, 1), (0, 1), (-1, 1), (-1, 0)]:\n",
    "        ni, nj = i + dy, j + dx\n",
    "        cell = get_cell(table, ni, nj)\n",
    "\n",
    "        if cell is not None:\n",
    "            emp_adj_cells, adj_mines = adjacent_info(table, ni, nj)\n",
    "            empty_cells = empty_cells.union(set(emp_adj_cells))\n",
    "            mines += cell - adj_mines\n",
    "\n",
    "    return empty_cells, mines\n",
    "\n",
    "def get_probability(table, i, j):\n",
    "    if get_cell(table, i, j) == 0:\n",
    "        empty_cells, mines = get_num_empty_adjacent_cells(table, i, j)\n",
    "        return 1 if len(empty_cells) == 0 else (mines / len(empty_cells))\n",
    "    \n",
    "    return 1"
   ]
  },
  {
   "cell_type": "code",
   "execution_count": 152,
   "metadata": {},
   "outputs": [],
   "source": [
    "prob_table = np.ones((n, m))\n",
    "for i in range(n):\n",
    "    for j in range(m):\n",
    "        prob_table[i, j] = get_probability(table, i, j)"
   ]
  },
  {
   "cell_type": "code",
   "execution_count": null,
   "metadata": {},
   "outputs": [],
   "source": []
  }
 ],
 "metadata": {
  "kernelspec": {
   "display_name": "base",
   "language": "python",
   "name": "python3"
  },
  "language_info": {
   "codemirror_mode": {
    "name": "ipython",
    "version": 3
   },
   "file_extension": ".py",
   "mimetype": "text/x-python",
   "name": "python",
   "nbconvert_exporter": "python",
   "pygments_lexer": "ipython3",
   "version": "3.9.12"
  }
 },
 "nbformat": 4,
 "nbformat_minor": 2
}
