{
 "cells": [
  {
   "cell_type": "markdown",
   "metadata": {},
   "source": [
    "# Descripción"
   ]
  },
  {
   "cell_type": "markdown",
   "metadata": {},
   "source": [
    "[Pagina de buscaminas en el que se baso el algoritmo](https://www.solitar.io/buscaminas)"
   ]
  },
  {
   "cell_type": "markdown",
   "metadata": {},
   "source": [
    "# Dependencias"
   ]
  },
  {
   "cell_type": "markdown",
   "metadata": {},
   "source": [
    "Si no puedes correr el codigo, descomenta las siguientes lineas de codigo o ejecutalas directamente desde tu terminal y reinicia el kernel de python.\n",
    "\n",
    "<strong>Nota</strong>: Al ejecutarse por primera vez el proyecto, se tardara unos minutos"
   ]
  },
  {
   "cell_type": "code",
   "execution_count": null,
   "metadata": {
    "scrolled": true
   },
   "outputs": [],
   "source": [
    "#pip install pyautogui opencv-python easyocr"
   ]
  },
  {
   "cell_type": "code",
   "execution_count": null,
   "metadata": {},
   "outputs": [],
   "source": [
    "#pip install torch==2.3.1 torchaudio==2.3.1 torchvision==0.18.1"
   ]
  },
  {
   "cell_type": "code",
   "execution_count": null,
   "metadata": {},
   "outputs": [],
   "source": [
    "#pip install -U matplotlib"
   ]
  },
  {
   "cell_type": "code",
   "execution_count": null,
   "metadata": {},
   "outputs": [],
   "source": [
    "#pip install --upgrade easyocr"
   ]
  },
  {
   "cell_type": "markdown",
   "metadata": {},
   "source": [
    "# Librerias"
   ]
  },
  {
   "cell_type": "code",
   "execution_count": null,
   "metadata": {},
   "outputs": [],
   "source": [
    "import os\n",
    "import cv2\n",
    "import time\n",
    "import easyocr\n",
    "import logging\n",
    "import pyautogui\n",
    "import numpy as np\n",
    "from collections import deque\n",
    "import matplotlib.pyplot as plt"
   ]
  },
  {
   "cell_type": "code",
   "execution_count": null,
   "metadata": {},
   "outputs": [],
   "source": [
    "start_time = time.time()"
   ]
  },
  {
   "cell_type": "markdown",
   "metadata": {},
   "source": [
    "# Captura de pantalla"
   ]
  },
  {
   "cell_type": "code",
   "execution_count": null,
   "metadata": {},
   "outputs": [],
   "source": [
    "# Obtenemos la imagen de la captura de pantalla\n",
    "def take_screenshot():\n",
    "    screenshot = pyautogui.screenshot()\n",
    "    return cv2.cvtColor(np.array(screenshot), cv2.COLOR_RGB2BGR)\n",
    "\n",
    "# Obtenemos los colores presentes en el tablero\n",
    "def get_colors():\n",
    "    return np.array([\n",
    "        [247, 236, 227], # White\n",
    "        [158, 92, 21],   # Blue\n",
    "        [200, 113, 27],  # Background\n",
    "    ], dtype=np.uint8)\n",
    "\n",
    "# Creamos las mascaras de los colores\n",
    "def create_mask_colors(screenshot, colors):\n",
    "    return [cv2.inRange(screenshot, color, color) for color in colors]\n",
    "\n",
    "# Obtenemos los contornos de la imagen\n",
    "def get_contours(masks):\n",
    "    combined_mask = np.bitwise_or.reduce(masks)\n",
    "    contours, _ = cv2.findContours(combined_mask, cv2.RETR_EXTERNAL, cv2.CHAIN_APPROX_SIMPLE)\n",
    "    return contours\n",
    "\n",
    "# Obtenemos las dimensiones de una imagen (x, y, width, height)\n",
    "def get_dimensions(contours):\n",
    "    largest_contour = max(contours, key=cv2.contourArea)\n",
    "    x, y, w, h = cv2.boundingRect(largest_contour)\n",
    "    return x, y, w, h"
   ]
  },
  {
   "cell_type": "code",
   "execution_count": null,
   "metadata": {},
   "outputs": [],
   "source": [
    "# Captura de pantalla\n",
    "screenshot = take_screenshot()\n",
    "colors = get_colors()\n",
    "masks = create_mask_colors(screenshot, [colors[-1]])\n",
    "colors = colors[:-1]\n",
    "\n",
    "# Obtenemos la imagen de la tabla\n",
    "table_contours = get_contours(masks)\n",
    "table_dims = get_dimensions(table_contours)"
   ]
  },
  {
   "cell_type": "code",
   "execution_count": null,
   "metadata": {},
   "outputs": [],
   "source": [
    "x, y, w, h = table_dims\n",
    "plt.imshow(cv2.cvtColor(screenshot[y:y+h, x:x+w], cv2.COLOR_BGR2RGB), cmap='gray')\n",
    "plt.axis('off')  # Ocultar los ejes\n",
    "plt.show()"
   ]
  },
  {
   "cell_type": "code",
   "execution_count": null,
   "metadata": {},
   "outputs": [],
   "source": [
    "def get_squares(square_contours):\n",
    "    squares = []\n",
    "    for contour in square_contours:\n",
    "        x, y, w, h = cv2.boundingRect(contour)\n",
    "        aspect_ratio = w / float(h)\n",
    "        if 0.9 <= aspect_ratio <= 1.3:\n",
    "            squares.append((x, y, w, h))\n",
    "\n",
    "    return squares\n",
    "\n",
    "def remove_numbers_with_distance(numbers_set, distance):\n",
    "    sorted_numbers = sorted(numbers_set)\n",
    "    \n",
    "    i = 0\n",
    "    while i < len(sorted_numbers) - 1:\n",
    "        if sorted_numbers[i + 1] - sorted_numbers[i] <= distance:\n",
    "            index = i if sorted_numbers[i + 1] < sorted_numbers[i] else (i + 1)\n",
    "            numbers_set.remove(sorted_numbers[index])\n",
    "            sorted_numbers = sorted(numbers_set)\n",
    "        else:\n",
    "            i += 1\n",
    "\n",
    "    return sorted(numbers_set)"
   ]
  },
  {
   "cell_type": "code",
   "execution_count": null,
   "metadata": {},
   "outputs": [],
   "source": [
    "# Obtenemos los colores\n",
    "x, y, w, h = table_dims\n",
    "square_masks = create_mask_colors(screenshot[y:y+h, x:x+w], colors)\n",
    "\n",
    "# Colores de cuadrados\n",
    "square_contours_white = get_contours([square_masks[0]]) # Cuadrado blanco\n",
    "square_contours_blue = get_contours([square_masks[1]]) # Cuadrado azul\n",
    "\n",
    "# Cuadrados\n",
    "squares = get_squares(square_contours_white) + get_squares(square_contours_blue)\n",
    "square_size = np.max(np.array(squares)[:, 2:].flatten())\n",
    "\n",
    "x_coords = remove_numbers_with_distance(set(x for x, _, _, _ in squares), square_size)\n",
    "y_coords = remove_numbers_with_distance(set(y for _, y, _, _ in squares), square_size)"
   ]
  },
  {
   "cell_type": "code",
   "execution_count": null,
   "metadata": {},
   "outputs": [],
   "source": [
    "len(x_coords), len(y_coords)"
   ]
  },
  {
   "cell_type": "code",
   "execution_count": null,
   "metadata": {},
   "outputs": [],
   "source": [
    "square_coords = [[(x, y) for x in x_coords] for y in y_coords]"
   ]
  },
  {
   "cell_type": "markdown",
   "metadata": {},
   "source": [
    "# Lectura del tablero"
   ]
  },
  {
   "cell_type": "code",
   "execution_count": null,
   "metadata": {},
   "outputs": [],
   "source": [
    "# Modelo descifrador de texto\n",
    "logging.getLogger().setLevel(logging.ERROR)\n",
    "reader = easyocr.Reader(['en'])"
   ]
  },
  {
   "cell_type": "code",
   "execution_count": null,
   "metadata": {},
   "outputs": [],
   "source": [
    "# Obtenemos la imagen de una casilla del tablero\n",
    "def get_square(screenshot, table_dims, sx, sy, square_size):\n",
    "    x, y, w, h = (\n",
    "        table_dims[0] + sx, \n",
    "        table_dims[1] + sy, \n",
    "        square_size, \n",
    "        square_size\n",
    "    )\n",
    "    return screenshot[y:y+h, x:x+w]\n",
    "\n",
    "# Redimensionamiento de la imagen\n",
    "def scale_image(square, width, inter=cv2.INTER_AREA):\n",
    "    original_height, original_width = square.shape[:2]\n",
    "    if original_width == width:\n",
    "        return square\n",
    "    \n",
    "    ratio = width / float(original_width)\n",
    "    height = int(original_height * ratio)\n",
    "    \n",
    "    return cv2.resize(square, (width, height), interpolation=inter)\n",
    "\n",
    "# Conversion de string a numero\n",
    "def str_to_number(str_value):\n",
    "    try:\n",
    "        return int(str_value)\n",
    "    except ValueError:\n",
    "        return\n",
    "\n",
    "# Desciframos el numero de la casilla    \n",
    "def get_number(square):\n",
    "    results = reader.readtext(square)\n",
    "    if not results:\n",
    "        return -1\n",
    "\n",
    "    sorted_results = sorted(results, key=lambda x: x[2], reverse=True)\n",
    "    return str_to_number(sorted_results[0][1])\n",
    "\n",
    "# Obtenemos el valor de una casilla (revelada_con_numero: numero, oculta: 0, revelada_sin_numero: -1)\n",
    "def get_cell_value(square, color):\n",
    "    mask = cv2.inRange(square, color, color)\n",
    "    color_percentage = (np.sum(mask) / (mask.size * 255)) * 100\n",
    "\n",
    "    if color_percentage == 0:\n",
    "        return 0\n",
    "\n",
    "    return get_number(square)"
   ]
  },
  {
   "cell_type": "code",
   "execution_count": null,
   "metadata": {},
   "outputs": [],
   "source": [
    "n, m = len(y_coords), len(x_coords)"
   ]
  },
  {
   "cell_type": "code",
   "execution_count": null,
   "metadata": {},
   "outputs": [],
   "source": [
    "table = np.zeros((n, m))\n",
    "\n",
    "for i in range(n):\n",
    "    for j in range(m):\n",
    "        sx, sy = square_coords[i][j]\n",
    "        square = get_square(screenshot, table_dims, sx, sy, square_size)\n",
    "        resized_square = scale_image(square, 100)\n",
    "        table[i, j] = get_cell_value(resized_square, colors[1])\n",
    "    print(f\"Fila {i + 1} de {len(table)} leida\")"
   ]
  },
  {
   "cell_type": "code",
   "execution_count": null,
   "metadata": {},
   "outputs": [],
   "source": [
    "# Mostramos el tablero\n",
    "def show_table(table, precision=0):\n",
    "    str_value = np.array2string(table, precision=precision, floatmode='fixed')\n",
    "    str_value = \" \" + str_value.replace(\"[\", \"\").replace(\"]\", \"\")\n",
    "    str_value = str_value.replace(\".\" + \"0\" * precision, \" \" * (precision + 1))\n",
    "    print(str_value)"
   ]
  },
  {
   "cell_type": "code",
   "execution_count": null,
   "metadata": {},
   "outputs": [],
   "source": [
    "show_table(table)"
   ]
  },
  {
   "attachments": {
    "image-2.png": {
     "image/png": "[encoded data removed]"
    },
    "image-3.png": {
     "image/png": "[encoded data removed]"
    },
    "image-4.png": {
     "image/png": "[encoded data removed]"
    },
    "image-5.png": {
     "image/png": "[encoded data removed]"
    },
    "image-6.png": {
     "image/png": "[encoded data removed]"
    },
    "image.png": {
     "image/png": "[encoded data removed]"
    }
   },
   "cell_type": "markdown",
   "metadata": {},
   "source": [
    "# Calculo de heuristica\n",
    "\n",
    "Para el calculo de la heuristica, se hace lo siguiente:  \n",
    "\n",
    "- Se toma una celda, vacia y se forma un cuadrado en diagonal hacia ella, para revisar si es un caso especial, sino se halla la heuristica de forma normal\n",
    "\n",
    "- Ejemplo de caso especial:  \n",
    "    - Primero, se toma una celda vacia con celdas adyacentes con numeros y se forma un cuadrado en diagonal, asi:  \n",
    "    \n",
    "    ![image-2.png](attachment:image-2.png)  \n",
    "    \n",
    "    - Luego nos desplazamos a la celda numerica diagonal a la celda vacia:  \n",
    "    \n",
    "    ![image.png](attachment:image.png)  \n",
    "    \n",
    "    - Si el valor de la celda coincide con el numero de celdas vacias que tiene alrededor, entonces la celda vacia que evaluamos es una mina\n",
    "\n",
    "- Ejemplo de caso general:\n",
    "    - En caso de que no se haya encontrado un caso especial, se halla la heuristica con una celda vacia con celdas adyacentes numericas, asi:  \n",
    "    \n",
    "    ![image-3.png](attachment:image-3.png)  \n",
    "    \n",
    "    - A esa celda vacia buscamos sus celdas adyacentes con numeros y sumaremos sus valores (LLamemoslo M):  \n",
    "    \n",
    "    ![image-4.png](attachment:image-4.png)\n",
    "    \n",
    "    - Ademas a esas celdas, contaremos las celdas vacias que tengan alrededor (Llamemoslo EC) y el numero de minas alrededor (MP):  \n",
    "    \n",
    "    ![image-5.png](attachment:image-5.png)\n",
    "    \n",
    "    - Si nos basamos del caso especial, la siguiente celda es una mina:  \n",
    "    \n",
    "    ![image-6.png](attachment:image-6.png)\n",
    "\n",
    "    - Finalmente, la heuristica se halla asi:  \n",
    "    \n",
    "    $H = \\dfrac{M - MP}{EC} = \\dfrac{3 - 1}{4} = \\dfrac{2}{4} = \\dfrac{1}{2} = 0.5$\n",
    "\n",
    "    - Nota: Si EC es cero, entonces H es 1 si hay minas por colocar"
   ]
  },
  {
   "cell_type": "code",
   "execution_count": null,
   "metadata": {},
   "outputs": [],
   "source": [
    "# Obtenemos el valor de una celda (-3 si no existe)\n",
    "def get_cell(table, i, j):\n",
    "    if 0 <= i < len(table) and 0 <= j < len(table[0]):\n",
    "        return table[i][j]\n",
    "    return -3\n",
    "\n",
    "# Celdas adyacentes a una celda\n",
    "def get_adjacent_cells(table, i, j):\n",
    "    adjacent_cells = []\n",
    "    \n",
    "    for dx, dy in [(-1, -1), (0, -1), (1, -1), (1, 0), (1, 1), (0, 1), (-1, 1), (-1, 0)]:\n",
    "        ni, nj = i + dy, j + dx\n",
    "        cell_value = get_cell(table, ni, nj)\n",
    "        \n",
    "        if cell_value != -3:\n",
    "            adjacent_cells.append((ni, nj, cell_value))\n",
    "    \n",
    "    return adjacent_cells\n",
    "\n",
    "# Celdas con numeros\n",
    "def adjacent_cell_with_positive_numbers(table, i, j):\n",
    "    return [(ni, nj, cell_value) for ni, nj, cell_value in get_adjacent_cells(table, i, j) if cell_value > 0]\n",
    "\n",
    "# Numero de celdas con numeros\n",
    "def num_adjacent_cell_with_positive_numbers(table, i, j):\n",
    "    return sum(1 for ni, nj, cell_value in get_adjacent_cells(table, i, j) if cell_value > 0)\n",
    "\n",
    "# Minas alrededor de una celda\n",
    "def mines_around_cell(table, i, j):\n",
    "    return sum(1 for ni, nj, cell_value in get_adjacent_cells(table, i, j) if cell_value == -2)\n",
    "\n",
    "# Celdas vacias alrededor de una celda\n",
    "def empty_cells_around(table, i, j):\n",
    "    return {(ni, nj) for ni, nj, cell_value in get_adjacent_cells(table, i, j) if cell_value == 0}\n",
    "\n",
    "# Caso en el que se presenta una esquina\n",
    "# Ejemplo:\n",
    "# [-1] [-1] [-1]\n",
    "# [-1]  [1]  [2]\n",
    "# [-1]  [2]  [x]\n",
    "# x es la celda a evaluar\n",
    "def is_special_case(table, i, j):\n",
    "    cases = [\n",
    "        [ # Arriba-Derecha\n",
    "            [(0, -1), (1, 0)], # Diagonales con numeros\n",
    "            (1, -1) # Diagonal con un 1\n",
    "        ],\n",
    "        [ # Derecha-Abajo\n",
    "            [(1, 0), (0, 1)], # Diagonales con numeros\n",
    "            (1, 1) # Diagonal con un 1\n",
    "        ],\n",
    "        [ # Abajo-Izquierda\n",
    "            [(0, 1), (-1, 0)], # Diagonales con numeros\n",
    "            (-1, 1) # Diagonal con un 1\n",
    "        ],\n",
    "        [ # Izquierda-Arriba\n",
    "            [(-1, 0), (0, -1)], # Diagonales con numeros\n",
    "            (-1, -1) # Diagonal con un 1\n",
    "        ]\n",
    "    ]\n",
    "\n",
    "    if get_cell(table, i, j) == 0: # Si es una celda oculta\n",
    "        for case in cases:\n",
    "            is_numbers = all(get_cell(table, i + dy, j + dx) > 0 for dx, dy in case[0]) # Rodeada por 3 celdas con numeros\n",
    "            \n",
    "            dx, dy = case[1]\n",
    "            ni, nj = i + dy, j + dx\n",
    "            num_empties = empty_cells_around(table, ni, nj)\n",
    "            cell_value = get_cell(table, ni, nj)\n",
    "            mines_around = mines_around_cell(table, ni, nj)\n",
    "\n",
    "            # Si las celdas vacias es igual a las minas restantes para que la celda tenga el numero indicado de minas alrededor\n",
    "            if num_empties == cell_value - mines_around and is_numbers:\n",
    "                return True\n",
    "\n",
    "    return False\n",
    "\n",
    "# Validacion del tablero\n",
    "def is_valid_board(table, full=False):\n",
    "    for i in range(len(table)):\n",
    "        for j in range(len(table[i])):\n",
    "            cell_value = get_cell(table, i, j)\n",
    "            mines_around = mines_around_cell(table, i, j)\n",
    "            adjacent_cells = adjacent_cell_with_positive_numbers(table, i, j)\n",
    "\n",
    "            # El tablero es valido solo:\n",
    "            # 1. Si esta lleno y todas las celdas numericas tienen el mismo numero de minas alrededor que lo que indica su valor\n",
    "            # 2. Si no esta lleno y hay alguna celda numerica con un menor numero de minas alrededor que lo que indica su valor\n",
    "            cond = (cell_value < mines_around) or (mines_around < cell_value and full)\n",
    "            \n",
    "            if adjacent_cells and cell_value > 0 and cond:\n",
    "                return False\n",
    "    return True\n",
    "\n",
    "# Se pone el caso especial en el tabler y se evalua si es valido o no\n",
    "def is_valid_special_case(table, i, j):\n",
    "    if is_special_case(table, i, j):\n",
    "        new_table = [row.copy() for row in table]\n",
    "        new_table[i][j] = -2\n",
    "        return is_valid_board(new_table)\n",
    "    return False\n",
    "\n",
    "# Calculo de la heuristica\n",
    "def heuristic(table, i, j):\n",
    "    mines_around, empty_cells = 0, set()\n",
    "    adjacent_cells = adjacent_cell_with_positive_numbers(table, i, j)\n",
    "\n",
    "    # Si es un caso especial, la heuristica es el mayor numero posible\n",
    "    if is_valid_special_case(table, i, j):\n",
    "        return 100\n",
    "    \n",
    "    # Si la celda no es oculta o si no tiene celdas adyacentes\n",
    "    if not adjacent_cells or get_cell(table, i, j) != 0:\n",
    "        return 0\n",
    "\n",
    "    # Calculo de minas y celdas vacias alrededor\n",
    "    for ni, nj, cell_value in adjacent_cells:\n",
    "        mines_around += cell_value - mines_around_cell(table, ni, nj)\n",
    "        empty_cells.update(empty_cells_around(table, ni, nj))\n",
    "        \n",
    "    return mines_around / len(empty_cells) if empty_cells else int(mines_around > 0)"
   ]
  },
  {
   "cell_type": "markdown",
   "metadata": {},
   "source": [
    "# Algoritmo para resolver el buscaminas\n",
    "\n",
    "La logica del algoritmo es encontrar las posibilidades (se limitan) de posicionar las minas en el tablero y que sea valido, luego con esas posibilidades se halla una probabilidad.\n",
    "\n",
    "El algoritmo hace lo siguiente:\n",
    "1. Calcula la heuristica de las celdas de la tabla que cumplan la condicion para ser calculadas\n",
    "2. De esas heuristicas se eliminan los movimientos invalidos  \n",
    "    - Un movimiento es invalido si se intento colocar una mina, pero al colocarse rompe las reglas de buscaminas\n",
    "3. Primeramente, se revisa si se puede continuar poniendo minas en el tablero (si alguna celda numerica le falta una mina alrededor) o si tengo heuristicas a evaluar\n",
    "    - Si no es posible continuar, se revisa si el tablero que se formo es valido\n",
    "    - Si el tablero es valido, se guarda esa posibilidad, sino nos devolvemos\n",
    "4. De esas heuristicas restantes se obtiene la mayor heuristica\n",
    "    - Si el valor de esa heuristica es 100 (caso especial), entonces se descartan las demas heuristicas\n",
    "5. Se crea un nuevo tablero con ese movimiento\n",
    "    - Si ese tablero ya fue visitado nos devolvemos, sino se añade a los tableros ya visitidos y continuamos\n",
    "6. Se revisa si el movimiento es valido\n",
    "    - Si ese movimiento es valido en el tablero, se vuelven a calcular las heuristicas y se sigue con el algoritmo\n",
    "    - Si no es valido, se añade como movimiento invalido para las iteraciones hermanas\n",
    "7. Se siguen revisando posibilidades quitando el movimiento anterior, pero con las mismas heuristicas\n",
    "8. El algoritmo termina cuando se haya alcanzado el numero maximo de posibilidades o no haya más heuristicas que evaluar\n",
    "9. Con los tableros obtenidos se halla la probabilidad de que haya una mina en las posiciones y se devuelve el mejor movimiento\n",
    "\n",
    "<strong>NOTA:</strong>\n",
    "1. El tablero es valido solo\n",
    "    - El tablero es valido solo si esta lleno y todas las celdas numericas tienen el mismo numero de minas alrededor que lo que indica su valor\n",
    "    - Si no esta lleno y hay alguna celda numerica con un menor numero de minas alrededor que lo que indica su valor\n",
    "2. Cuanto mayor se el maximo de posibilidades permitido, mejor sera el movimiento que dara como que no es mina, pero se tardara más en el algoritmo."
   ]
  },
  {
   "cell_type": "code",
   "execution_count": null,
   "metadata": {
    "scrolled": true
   },
   "outputs": [],
   "source": [
    "# Calculo de la heuristica para hallar donde se ubica una mina\n",
    "def calculate_heuristics(table):\n",
    "    heuristics = []\n",
    "    for i in range(len(table)):\n",
    "        for j in range(len(table[i])):\n",
    "            value = heuristic(table, i, j)\n",
    "            if value > 0: # La celda es valida para evaluar\n",
    "                heuristics.append((i, j, value))\n",
    "    return sorted(heuristics, key=lambda x: x[2])\n",
    "\n",
    "# Se puede continuar colocando minas\n",
    "def can_continue(table):\n",
    "    for i in range(len(table)):\n",
    "        for j in range(len(table[i])):\n",
    "            cell = get_cell(table, i, j)\n",
    "            # Se pueden colocar minas si hay alguna celda con numero con menos minas alrededor\n",
    "            if 0 < cell and mines_around_cell(table, i, j) < cell:\n",
    "                return True\n",
    "    return False\n",
    "\n",
    "# Se toman todas las posibilidades de colocar minas en el tablero y se halla la probabilidad de cada posicion\n",
    "def calculate_probability(matrices, target_number, row_index, col_index):\n",
    "    total_matrices = len(matrices)\n",
    "    count = sum(matrix[row_index][col_index] == target_number for matrix in matrices)\n",
    "    return 0 if total_matrices == 0 else (count / total_matrices), count\n",
    "\n",
    "# Se llena una matriz con las probabilidades de que una celda sea una mina\n",
    "def get_probabilities(table, paths, n, m):\n",
    "    prob_table = np.ones((n, m))\n",
    "    \n",
    "    for i in range(n):\n",
    "        for j in range(m):\n",
    "            prob, count = calculate_probability(paths, -2, i, j)\n",
    "            num_adj = num_adjacent_cell_with_positive_numbers(table, i, j)\n",
    "            cell = get_cell(table, i, j)\n",
    "            \n",
    "            if 0 < count or (cell == 0 and 0 < num_adj):\n",
    "                prob_table[i, j] = prob\n",
    "            else:\n",
    "                prob_table[i, j] = 2\n",
    "                \n",
    "    return prob_table\n",
    "\n",
    "# Se encuentra la posicion (i, j) de la celda con menos probabilidad de que sea una mina\n",
    "def find_best_movement(table, valid_paths):\n",
    "    print(len(valid_paths))\n",
    "    prob_table = get_probabilities(table, valid_paths, len(table), len(table[0]))\n",
    "    show_table(prob_table, precision=1)\n",
    "    return np.unravel_index(np.argmin(prob_table), prob_table.shape)\n",
    "\n",
    "# Algoritmo para resolver el buscaminas\n",
    "def minesweeper_solver(table, heuristics_list, valid_paths, max_possibilities, visited_tables=set(), invalid_movements=[]):\n",
    "    # Si se pasa el numero de posibilidades\n",
    "    if len(valid_paths) >= max_possibilities:\n",
    "        return\n",
    "    \n",
    "    heuristics_list = [heur for heur in heuristics_list if (heur[0], heur[1]) not in invalid_movements]\n",
    "    \n",
    "    # Si no se puede continuar o no hay mas movimientos\n",
    "    if not can_continue(table) or not heuristics_list:\n",
    "        if is_valid_board(table, full=True): # Si el tablero es valido, se añade la posibilidad\n",
    "            valid_paths.append(table)\n",
    "        return\n",
    "    \n",
    "    i, j, h = heuristics_list.pop() # Se obtiene la posicion (i, j) con la mayor heuristica\n",
    "    if h == 100: # Si es un caso especial, se descartan las demas posibilidades\n",
    "        heuristics_list.clear()\n",
    "    \n",
    "    # Se crea un nuevo tablero\n",
    "    new_table = [row.copy() for row in table]\n",
    "    new_table[i][j] = -2 # Se asume que la posicion (i, j) es mina\n",
    "    \n",
    "    # Si un tablero se repite, no se sigue\n",
    "    table_tuple = tuple(tuple(row) for row in new_table)\n",
    "    if table_tuple in visited_tables:\n",
    "        return\n",
    "    \n",
    "    visited_tables.add(table_tuple)\n",
    "    new_invalid_movements = invalid_movements.copy()\n",
    "    \n",
    "    # Se valida si la posicion (i, j) es mina\n",
    "    if is_valid_board(new_table): # Si es correcto, se continua\n",
    "        new_heuristics = calculate_heuristics(new_table)\n",
    "        minesweeper_solver(new_table, new_heuristics, valid_paths, max_possibilities, visited_tables, new_invalid_movements)\n",
    "    \n",
    "    else: # Sino, se añade como movimiento invalido\n",
    "        new_invalid_movements.append((i, j))\n",
    "    \n",
    "    # Se intenta con los movimientos restantes\n",
    "    minesweeper_solver(table, heuristics_list, valid_paths, max_possibilities, visited_tables, new_invalid_movements)"
   ]
  },
  {
   "cell_type": "markdown",
   "metadata": {},
   "source": [
    "# Solución"
   ]
  },
  {
   "cell_type": "code",
   "execution_count": null,
   "metadata": {},
   "outputs": [],
   "source": [
    "valid_paths = []\n",
    "MAX_POSSIBILITIES = 1"
   ]
  },
  {
   "cell_type": "code",
   "execution_count": null,
   "metadata": {
    "scrolled": true
   },
   "outputs": [],
   "source": [
    "heuristics_list = calculate_heuristics(table)\n",
    "minesweeper_solver(table, heuristics_list, valid_paths, MAX_POSSIBILITIES)"
   ]
  },
  {
   "cell_type": "code",
   "execution_count": null,
   "metadata": {},
   "outputs": [],
   "source": [
    "square_i, square_j = find_best_movement(table, valid_paths)"
   ]
  },
  {
   "cell_type": "code",
   "execution_count": null,
   "metadata": {},
   "outputs": [],
   "source": [
    "# Se muestra el mejor movimiento\n",
    "def show_best_movement(table_dims, i, j, square_size):\n",
    "    x, y, w, h = table_dims\n",
    "    sx, sy = square_coords[i][j]\n",
    "    \n",
    "    table = screenshot[y:y+h, x:x+w]    \n",
    "    cv2.rectangle(table, (sx, sy), (sx+square_size, sy+square_size), (0, 0, 0), 2)\n",
    "\n",
    "    plt.imshow(cv2.cvtColor(table, cv2.COLOR_BGR2RGB), cmap='gray')\n",
    "    plt.axis('off')  # Ocultar los ejes\n",
    "    plt.show()"
   ]
  },
  {
   "cell_type": "code",
   "execution_count": null,
   "metadata": {
    "scrolled": false
   },
   "outputs": [],
   "source": [
    "show_best_movement(table_dims, square_i, square_j, square_size)"
   ]
  },
  {
   "cell_type": "markdown",
   "metadata": {},
   "source": [
    "# Tiempo transcurrido"
   ]
  },
  {
   "cell_type": "code",
   "execution_count": null,
   "metadata": {},
   "outputs": [],
   "source": [
    "end_time = time.time()"
   ]
  },
  {
   "cell_type": "code",
   "execution_count": null,
   "metadata": {},
   "outputs": [],
   "source": [
    "elapsed_time = end_time - start_time\n",
    "\n",
    "minutes = int(elapsed_time // 60)\n",
    "seconds = int(elapsed_time % 60)\n",
    "\n",
    "print(f\"{minutes}min {seconds}s\")"
   ]
  }
 ],
 "metadata": {
  "kernelspec": {
   "display_name": "Python 3",
   "language": "python",
   "name": "python3"
  },
  "language_info": {
   "codemirror_mode": {
    "name": "ipython",
    "version": 3
   },
   "file_extension": ".py",
   "mimetype": "text/x-python",
   "name": "python",
   "nbconvert_exporter": "python",
   "pygments_lexer": "ipython3",
   "version": "3.9.19"
  }
 },
 "nbformat": 4,
 "nbformat_minor": 4
}
